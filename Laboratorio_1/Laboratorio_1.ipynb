{
 "cells": [
  {
   "cell_type": "markdown",
   "metadata": {},
   "source": [
    "<img src=\"images/usm.png\" width=\"480\" height=\"240\" align=\"center\"/>"
   ]
  },
  {
   "cell_type": "markdown",
   "metadata": {},
   "source": [
    "\n",
    "<center>\n",
    "    <strong> <font size=\"5\"> MAT215 - 2° Semestre 2021 <br> Matemática Discreta</font> </strong>\n",
    "    \n",
    "</center>\n"
   ]
  },
  {
   "cell_type": "markdown",
   "metadata": {},
   "source": [
    "#### Nombre: Javier Valladares Cortes\n",
    "#### Rol: 201710508-9"
   ]
  },
  {
   "cell_type": "markdown",
   "metadata": {},
   "source": [
    "## Índice\n",
    "* [Instrucciones](#in)\n",
    "* [Hackeo de Hash (SHA-1)](#hck)\n",
    "* [Preguntas](#prg)\n",
    "* [Ápendice](#ap)\n"
   ]
  },
  {
   "cell_type": "markdown",
   "metadata": {},
   "source": [
    "<a id='in'></a>\n",
    "## 1.- Instrucciones.\n",
    "\n",
    "* Este laboratorio es de carácter individual, aunque se permite el intercambio de ideas con demás estudiantes, la redacción de éste debe ser personal.\n",
    "* La fecha de entrega es el 18/06/21 con hora límite 23:59 al correo federico.pena.14@sansano.usm.cl Por día habrá un descuento de 10 ptos, al segundo día 20 ptos hasta el 5to día de atraso fecha a la cuál ya no se recibirán mas laboratorios.\n",
    "* El lenguaje de programación utilizado para resolver el laboratorio es de libre elección, Siéntase libre de utilizar cualquier librería que lo ayude en su programación (Guardando parámetros, evitar utilizar artillería pesada). Eso sí considere que la resolución del laboratorio se hizo pensando en el lenguaje Python, usar otro lenguaje podría incurrir en variaciones en la dificultad de cada pregunta."
   ]
  },
  {
   "cell_type": "markdown",
   "metadata": {},
   "source": [
    "<a id='hck'></a>\n",
    "\n",
    "\n",
    "## 2.- Hackeo de Hash (SHA-1) (100p)\n",
    "\n",
    "En clases se vieron distintos métodos para encriptar un mensaje, el objetivo de esto normalmente es mantener la conficencialidad de dicho mensaje al mismo tiempo que se transmite la información que contien. Por otro lado existen tecnicas de encryptación cuya misión no es transmitir información sinó que guardarla de forma segura, en este sentido existen las funciones Hash, de forma sencilla una función hash es el resultado de varios calculos y operaciones sobre lo que se esté hasheando, ya sean contraseñas o archivos completos entregando un valor que se utliza como identificación. Esto se usa para asegurar que la contraseña o archivo que se quiere usar/descargar, coincida con el Hash del valor/archivo original. Si existe alguna diferencia, entonces las contraseñas/archivos no coinciden.\n",
    "\n",
    "Pueden probar distintos tipos de funciones hash en <a href=\"http://www.sha1-online.com/\">sha1-online-com</a>\n",
    "\n",
    "\n",
    "\n",
    "Por desgracias y por construcción las funciones hash como SHA-1 entregan el mismo hash a cada palabra, osea que si es que se usa más de una vez la  misma palabra tendrá la misma salida, esto lo deja expuesto a ataques de fuerza bruta, pasando varios intentos de contraseña por SHA-1 hasta que alguno coincida con la base de datos de los Hash del servidor.\n",
    "Existen alternativas para evitar esto pero también traen sus propios desafios. Los invito a que investiguen como se protege su información virtual. \n",
    "\n",
    "\n",
    "\n",
    "\n",
    "\n",
    "\n",
    "Uno de las técnicas de cifrado más común basada en la sustitución corresponde a una [función hash](#fh) con los pares (llave, valor) donde la letra que corresponde a la llave se reemplaza por la letra que corresponda a valor. \n",
    "\n",
    "Por ejemplo:\n",
    "\n",
    "```Python\n",
    "\n",
    "Clave 1    = \"Mat215\"\n",
    "Clave 2    = \"MAT215\"\n",
    "Clave 3    = \"MAT214\"\n",
    "\n",
    "Hash 1     = \"d8cdd5be6f2969d06481a2653505c5933df007e8\"\n",
    "Hash 2     = \"6d46b38d571c4fa2ea52625f96387cd5a656907d\"\n",
    "Hash 3     = \"6dadf760cb3dca14581044903c1a8ef33bc61ad0\"\n",
    "\n",
    "\n",
    "Noten como pequeños cambios dan un resultados diferentes.\n",
    "```\n",
    "\n",
    "### ¿Cómo hackeo un archivo con contraseñas Hasheadas?\n",
    "Para esta parte vamos a construir herramientas que nos permitan realizar intentos de adivinacion de forma iterativa, luego de estas pruebas vamos a probar implementar euristicas para explotar algunas debilidades del sistema SHA-1, y de la naturaleza de las contraseñas. \n",
    "\n",
    "![image info](https://ih0.redbubble.net/image.175665193.4068/mp,550x550,matte,ffffff,t.u3.jpg)\n",
    "\n"
   ]
  },
  {
   "cell_type": "markdown",
   "metadata": {},
   "source": [
    "#### Funcion Fuerza bruta del Hackerman:\n",
    "\n",
    "Para esta parte vamos a crear una función que resiva un valor hash, y nos diga si esta en una base de datos de contraseñas.\n",
    "\n",
    "Usaremos la base de datos de rockyou, que es una verdadera pagina que fue hackeada el 2009, que a diferencia de otras paginas, guardó sus contraseñas sin encryptar (obviamente no tuvieron clases de MAT-215). Pueden encontrar las claves originales en el siguiente link <a href=\"https://www.kaggle.com/wjburns/common-password-list-rockyoutxt\">Rockyou</a>. Trabajaremos con esta base de datos ya Hasheada, el archivo H-rockyou.txt. \n",
    "\n"
   ]
  },
  {
   "cell_type": "code",
   "execution_count": 72,
   "metadata": {},
   "outputs": [
    {
     "name": "stdout",
     "output_type": "stream",
     "text": [
      "ingrese su clave de hash.\n",
      ">b1b3773a05c0ed0176787a4f1574ff0075f7521e\n",
      "7c4a8d09ca3762af61e59520943dc26494f8941b contraseña no coincide, vuelva a intentarlo...\n",
      "5baa61e4c9b93f3f0682250b6cf8331b7ee68fd8 contraseña no coincide, vuelva a intentarlo...\n",
      "7c222fb2927d828af22f592134e8932480637c0d contraseña no coincide, vuelva a intentarlo...\n",
      "La contraseña fue encontrada y es:  qwerty\n"
     ]
    },
    {
     "ename": "SystemExit",
     "evalue": "Contraseña encontrada",
     "output_type": "error",
     "traceback": [
      "An exception has occurred, use %tb to see the full traceback.\n",
      "\u001b[0;31mSystemExit\u001b[0m\u001b[0;31m:\u001b[0m Contraseña encontrada\n"
     ]
    },
    {
     "name": "stderr",
     "output_type": "stream",
     "text": [
      "/Users/javiervalladares/opt/anaconda3/envs/Mate-Discreta/lib/python3.7/site-packages/IPython/core/interactiveshell.py:3449: UserWarning: To exit: use 'exit', 'quit', or Ctrl-D.\n",
      "  warn(\"To exit: use 'exit', 'quit', or Ctrl-D.\", stacklevel=1)\n"
     ]
    }
   ],
   "source": [
    "#función de ejemplo\n",
    "\n",
    "#libreria escencial.\n",
    "import hashlib\n",
    "\n",
    "import urllib\n",
    "\n",
    "import sys\n",
    "\n",
    "\n",
    "\n",
    "hsah = input(\"ingrese su clave de hash.\\n>\") #hash inv = hsah, \n",
    "\n",
    "#abrimos el archivo con la base de datos H. \n",
    "Constraseñas_comunes = str(urllib.request.urlopen('https://raw.githubusercontent.com/danielmiessler/SecLists/master/Passwords/Common-Credentials/10-million-password-list-top-10000.txt').read(), 'utf-8')\n",
    "\n",
    "#probamos si esta con fuerza bruta\n",
    "for sus in Constraseñas_comunes.split('\\n'):\n",
    "    \n",
    "    #ojo que la función hash recive archivos en forma de bytes, hay que hacer la conversión.\n",
    "    hashedsus = hashlib.sha1(bytes(sus, 'utf-8')).hexdigest()\n",
    "    #comparamos\n",
    "    \n",
    "    if hashedsus == hsah:\n",
    "        \n",
    "        #en caso de coincidir le decimos que hacer\n",
    "        print(\"La contraseña fue encontrada y es: \", str(sus))\n",
    "        sys.exit(\"Contraseña encontrada\")\n",
    "        \n",
    "    elif hashedsus != hsah:\n",
    "        \n",
    "        #que hacer en caso de fallar, esto se puede cortar para agilizar el proceso\n",
    "        print(str(hashedsus),\"contraseña no coincide, vuelva a intentarlo...\")\n",
    "        \n",
    "print(\"No se encontro la contraseña, es \\\"segura\\\". Busque con otra contraseña\")\n"
   ]
  },
  {
   "cell_type": "markdown",
   "metadata": {
    "collapsed": true
   },
   "source": []
  },
  {
   "cell_type": "markdown",
   "metadata": {},
   "source": [
    "<a id='prg'></a>\n",
    "# PREGUNTAS"
   ]
  },
  {
   "cell_type": "code",
   "execution_count": 2,
   "metadata": {},
   "outputs": [],
   "source": [
    "#Importamos las librerias necesarias\n",
    "\n",
    "import hashlib\n",
    "\n",
    "import urllib\n",
    "\n",
    "import pandas as pd\n",
    "\n",
    "import numpy as np\n",
    "\n",
    "import random\n",
    "\n",
    "import itertools as it\n",
    "\n",
    "import re as re\n",
    "\n",
    "import sys"
   ]
  },
  {
   "cell_type": "markdown",
   "metadata": {},
   "source": [
    "\n",
    "a) Utilizando como base la función anterior, basandonos en la misma lista de 10000 contraseñas más comunes, implemente un codigo iterativo que le permita romper la codificación hash de algunas de las claves del archivo H-rockyou.txt\n",
    "\n",
    "Almacene sus respuestas en un dataframe con la clave original, y su valor hash\n",
    "\n",
    "Si el programa es muy pesado para su procesador puede tomar muestras del total. \n",
    "(como alternativa pueden usar google collab)"
   ]
  },
  {
   "cell_type": "code",
   "execution_count": 11,
   "metadata": {},
   "outputs": [
    {
     "name": "stdout",
     "output_type": "stream",
     "text": [
      "  Contraseña                                Valor hash\n",
      "0     123456  7c4a8d09ca3762af61e59520943dc26494f8941b\n",
      "1      12345  8cb2237d0679ca88db6464eac60da96345513964\n",
      "2  123456789  f7c3bc1d808e04732adf679965ccc34ca7ae3441\n",
      "3   password  5baa61e4c9b93f3f0682250b6cf8331b7ee68fd8\n",
      "4   iloveyou  ee8d8728f435fd550f83852aabab5234ce1da528\n"
     ]
    }
   ],
   "source": [
    "f = open('H-rockyou.txt','r') #Abrimos el archivo con los valores hash\n",
    "\n",
    "#Definimos dos listas para construir el dataframe\n",
    "contra = [] #Lista de contraseñas\n",
    "\n",
    "valores = [] #Lista de valores hash \n",
    "\n",
    "df = pd.DataFrame() #Inicializamos un dataframe\n",
    "\n",
    "Constraseñas_comunes = str(urllib.request.urlopen('https://raw.githubusercontent.com/danielmiessler/SecLists/master/Passwords/Common-Credentials/10-million-password-list-top-10000.txt').read(), 'utf-8')\n",
    "\n",
    "for linea in f: #Iteramos sobre los valores hash del archivo de texto\n",
    "     \n",
    "    hash_value = linea.strip() #Definimos su valor hash \n",
    "    \n",
    "    for sus in Constraseñas_comunes.split('\\n'): #Iteramos sobre las contraseñas comunes\n",
    "        \n",
    "        hash_a = hashlib.sha1(bytes(sus, 'utf-8')).hexdigest() #Calculamos el valor hash con la funcion\n",
    "        \n",
    "        if hash_a == hash_value: #Verificamos si el valor hash coincide\n",
    "            \n",
    "            #Agregamos los elementos correspondientes a las listas creadas\n",
    "            contra.append(sus)\n",
    "            \n",
    "            valores.append(hash_value)\n",
    "            \n",
    "            break\n",
    "            \n",
    "\n",
    "#Definimos dos columnas del dataframe y lo imprimimos por pantalla\n",
    "df[\"Contraseña\"] = contra\n",
    "\n",
    "df[\"Valor hash\"] = valores\n",
    "            \n",
    "print(df.head())"
   ]
  },
  {
   "cell_type": "markdown",
   "metadata": {},
   "source": [
    "b) Considere una clave de largo 8 digitos. Cuantas combinaciones de clave puede existir si:\n",
    "\n",
    "    i) Si solo se utilizan letras minisculas\n",
    "    ii) Si se usan letras (mayusculas y minusculas) y números\n",
    "    iii) Si se usan números son seguidos que representan fechas o años. \n",
    "    \n",
    "*para iii) Pueden especificar las reglas que usen para claridad*\n"
   ]
  },
  {
   "cell_type": "markdown",
   "metadata": {},
   "source": [
    "i) Para el primer caso tenemos que la clave tiene un largo de 8 digitos, considerando el alfabeto inglés con 26\n",
    "letras y además suponemos se permite la repetición de letras tenemos que:"
   ]
  },
  {
   "cell_type": "code",
   "execution_count": 15,
   "metadata": {},
   "outputs": [
    {
     "name": "stdout",
     "output_type": "stream",
     "text": [
      "Son posibles un total de 302231454903657293676544  combinaciones\n"
     ]
    }
   ],
   "source": [
    "combinaciones = 8**26\n",
    "\n",
    "print(\"Son posibles un total de\",combinaciones,\" combinaciones\")"
   ]
  },
  {
   "cell_type": "markdown",
   "metadata": {},
   "source": [
    "ii) Por otro lado considerando además las mayúsculas y números, el total de dígitos que podemos usar aumenta, \n",
    "con 26 letras más y 10 números del 0 al 9, por lo que tenemos ahora 26 + 26 + 9 = 61 dígitos disponibles:"
   ]
  },
  {
   "cell_type": "code",
   "execution_count": 13,
   "metadata": {},
   "outputs": [
    {
     "name": "stdout",
     "output_type": "stream",
     "text": [
      "Son posibles para el segundo caso 12259964326927110866866776217202473468949912977468817408 combinaciones\n"
     ]
    }
   ],
   "source": [
    "combinaciones_2 = 8**61\n",
    "\n",
    "print(\"Son posibles para el segundo caso\",combinaciones_2, \"combinaciones\")"
   ]
  },
  {
   "cell_type": "markdown",
   "metadata": {},
   "source": [
    "iii) Para este tercer caso consideramos las siguientes reglas, tenemos 8 dígitos que se reparten en 3 partes,\n",
    "2 dígitos para los días con la forma 01,...,31 , 2 dígitos para los meses 01,...,12 y por ultimo 4 dígitos para\n",
    "los años desde 1900,....,2021 considerando que nadie usa fechas previas al siglo XX, finalmente tenemos\n",
    "para los días 2^31, para los meses 2^12 y para los años 4^121"
   ]
  },
  {
   "cell_type": "code",
   "execution_count": 13,
   "metadata": {},
   "outputs": [
    {
     "name": "stdout",
     "output_type": "stream",
     "text": [
      "Son posibles para el ultimo caso 7067388259113537318333190002971674063309935587502475832486424807317965880 combinaciones\n"
     ]
    }
   ],
   "source": [
    "combinaciones_3 = (2**31 + 2**12 + 4**121 -2*121 - 1*6*121)\n",
    "\n",
    "print(\"Son posibles para el ultimo caso\",combinaciones_3,\"combinaciones\")"
   ]
  },
  {
   "cell_type": "markdown",
   "metadata": {},
   "source": [
    "\n",
    "c) Construya 2 funcions que utilicen eurísticas para desencriptar contraseñas:\n",
    " Pueden ser a gusto personal, pero algunas ideas pueden salir de b) o se pueden combinar diccionarios de palabras comunes. \n",
    " \n",
    " Desencrypte al menos 20 nuevas contraseñas (respecto a a))\n",
    " \n",
    "\n",
    " "
   ]
  },
  {
   "cell_type": "markdown",
   "metadata": {},
   "source": [
    "i) Observando algunas contraseñas podemos ver que existen varias que contienen 2 l's juntas o separadas, por lo que podría ser más facil encontrar contraseñas de este tipo."
   ]
  },
  {
   "cell_type": "code",
   "execution_count": 7,
   "metadata": {
    "scrolled": true
   },
   "outputs": [
    {
     "name": "stdout",
     "output_type": "stream",
     "text": [
      "   Contraseña                                Valor hash\n",
      "0      lovely  de3460832ea070effabbc7032d7594bbde1bb120\n",
      "1    michelle  7212a9e01329ea93a57f574bd9bf77695d5fdca4\n",
      "2   liverpool  068942c83f0e6994d046f7ec01b8f42ba8f317a7\n",
      "3    football  2d27b62c597ec858f6e7b54e7e58525e6a95e6d8\n",
      "4  basketball  468ee5cbd54e42b8aeaad13c130f780f0d091173\n"
     ]
    }
   ],
   "source": [
    "def contar_eles(text): #Funcion para contar las l's de una contraseña\n",
    "    \n",
    "    cont = 0 #Inicializamos un contador\n",
    "    \n",
    "    for i in range(0,len(text)): #Iteramos letra por letra\n",
    "        \n",
    "        if text[i] == 'l': #Si es una l aumentamos en una unidad el contador\n",
    "            \n",
    "            cont+=1\n",
    "            \n",
    "    if cont >= 2: #En caso de tener 2 o mas l's retorna el valor True\n",
    "        \n",
    "        return True\n",
    "    \n",
    "    return False #Retorna False si no tiene 2 o más l's \n",
    "\n",
    "#Definimos dos listas para construir el dataframe\n",
    "contra = [] #Lista de contraseñas\n",
    "\n",
    "valores = [] #Lista de valores hash \n",
    "\n",
    "df = pd.DataFrame() #Inicializamos un dataframe\n",
    "\n",
    "Constraseñas_comunes = str(urllib.request.urlopen('https://raw.githubusercontent.com/danielmiessler/SecLists/master/Passwords/Common-Credentials/10-million-password-list-top-10000.txt').read(), 'utf-8')\n",
    "    \n",
    "f = open('H-rockyou.txt','r') #Abrimos el archivo con los valores hash\n",
    "\n",
    "cont = 0 #Inicializamos un contador para contar las 20 contraseñas a decifrar\n",
    "\n",
    "for hash_ in f: #Iteramos sobre los valores hash del archivo\n",
    "    \n",
    "    hash_a = hash_.strip() #Definimos el valor hash\n",
    "    \n",
    "    if cont == 20: #En caso de llegar a las 20 contraseñas decifradas salir del for\n",
    "        \n",
    "        break\n",
    "    \n",
    "    for sus in Constraseñas_comunes.split('\\n'): #Iteramos sobre las contraseñas comunes\n",
    "        \n",
    "        if contar_eles(sus): #Realizamos la comparación en caso de tener 2 o más l's\n",
    "                 \n",
    "            hash_b = hashlib.sha1(bytes(sus, 'utf-8')).hexdigest() #Calculamos su valor hash\n",
    "\n",
    "            if hash_b == hash_a: #Verificamos si coinciden los valores\n",
    "\n",
    "                cont += 1 #Aumentamos en una unidad el contador\n",
    "\n",
    "                #Agregamos los elementos correspondientes a las listas creadas\n",
    "                contra.append(sus)\n",
    "\n",
    "                valores.append(hash_value)\n",
    "\n",
    "                break\n",
    "            \n",
    "#Definimos dos columnas del dataframe y lo imprimimos por pantalla\n",
    "df[\"Contraseña\"] = contra\n",
    "\n",
    "df[\"Valor hash\"] = valores\n",
    "            \n",
    "print(df.head())"
   ]
  },
  {
   "cell_type": "markdown",
   "metadata": {},
   "source": [
    "ii) Por otro lado, muchas contraseñas utilizan la palabra love o variaciones de ella, en ese sentido podría ser más facil encontrar las contraseñas que contengan esta palabra."
   ]
  },
  {
   "cell_type": "code",
   "execution_count": 4,
   "metadata": {},
   "outputs": [
    {
     "name": "stdout",
     "output_type": "stream",
     "text": [
      "  Contraseña                                Valor hash\n",
      "0   iloveyou  ee8d8728f435fd550f83852aabab5234ce1da528\n",
      "1     lovely  de3460832ea070effabbc7032d7594bbde1bb120\n",
      "2     iloveu  b78034aacf3559fffbfcb545d9a9122efb93181f\n",
      "3     loveme  81941add3e463581722bac84d02282cafb1c32c2\n",
      "4    loveyou  f4cc6e82140048ead7015f2917eb56e3e50a1f00\n"
     ]
    }
   ],
   "source": [
    "def cambio_vocales(contra): #Funcion para cambiar vocales por números.\n",
    "\n",
    "    lista_vocales = {'a':'4','e':'3','i':'1','o':'0','A':'4','E':'3','I':'1','O':'0'} #Definimos un diccionario con los valores necesarios\n",
    "    \n",
    "    new_contra = [] #Creamos una lista para guardar cada letra\n",
    "    \n",
    "    for i in range(0,len(contra)): #Iteramos letra por letra\n",
    "        \n",
    "        if contra[i] in lista_vocales.keys(): #En caso de ser vocal, la cambia por su correspondiente número\n",
    "            \n",
    "            new_contra.append(lista_vocales[contra[i]]) #Se agrega a la lista \n",
    "            \n",
    "        else: #En caso de no ser vocal se agrega directamente\n",
    "            new_contra.append(contra[i])\n",
    "            \n",
    "            \n",
    "    return ''.join(new_contra) #Retorna el nuevo string con las vocales cambiadas\n",
    "\n",
    "#Definimos dos listas para construir el dataframe\n",
    "contra = [] #Lista de contraseñas\n",
    "\n",
    "valores = [] #Lista de valores hash \n",
    "\n",
    "df = pd.DataFrame() #Inicializamos un dataframe\n",
    "\n",
    "Constraseñas_comunes = str(urllib.request.urlopen('https://raw.githubusercontent.com/danielmiessler/SecLists/master/Passwords/Common-Credentials/10-million-password-list-top-10000.txt').read(), 'utf-8')\n",
    "    \n",
    "f = open('H-rockyou.txt','r') #Abrimos el archivo con los valores hash\n",
    "\n",
    "cont = 0 #Inicializamos el contador en 0\n",
    "\n",
    "for hash_ in f: #Iteramos sobre los valores hash del archivo\n",
    "    \n",
    "    hash_a = hash_.strip() #Definimos el valor hash\n",
    "    \n",
    "    if cont == 20: #En caso de llegar a las 20 contraseñas decifradas salimos del ciclo\n",
    "        \n",
    "        break\n",
    "    \n",
    "    for sus in Constraseñas_comunes.split('\\n'): #Iteramos sobre las contraseñas comunes\n",
    "        \n",
    "        if 'love' in sus or cambio_vocales('love') in sus: #En caso de contener la palabra love o su transformación verificamos el valor\n",
    "        \n",
    "            hash_b = hashlib.sha1(bytes(sus, 'utf-8')).hexdigest() #Calculamos sus valores hash para cada una\n",
    "\n",
    "            hash_c = hashlib.sha1(bytes(cambio_vocales(sus), 'utf-8')).hexdigest()\n",
    "\n",
    "            if hash_b == hash_a or hash_a == hash_c: #Verificamos si coinciden los valores hash\n",
    "\n",
    "                cont += 1 #Aumentamos en una unidad el contador\n",
    "\n",
    "                #Agregamos los elementos correspondientes a las listas creadas\n",
    "                contra.append(sus)\n",
    "\n",
    "                valores.append(hash_value)\n",
    "\n",
    "                break\n",
    "            \n",
    "#Definimos dos columnas del dataframe y lo imprimimos por pantalla\n",
    "df[\"Contraseña\"] = contra\n",
    "\n",
    "df[\"Valor hash\"] = valores\n",
    "            \n",
    "print(df.head())"
   ]
  },
  {
   "cell_type": "markdown",
   "metadata": {},
   "source": [
    "d) Actualmente la encriptación SHA-1 se concidera rota (broken) al igual que bm5, esto nos muestra diversos desafios de ciberseguridad y como es a la vez una carrera contra los avances computacionales. Considerando lo que ha desarrollado, y una posible investigación personal que haya hecho, describa una función hash, algunas de sus debilidades y fortalezas, puede utilizar SHA-1 como ejemplo. "
   ]
  },
  {
   "cell_type": "markdown",
   "metadata": {},
   "source": [
    "###  Respuesta: \n",
    "Una función hash permite proteger información al momento de almacenar datos, por ejemplo las contraseñas de paginas web son almacenadas de esta manera, ya que si un hacker se infiltra y tiene acceso a la base de datos de esta página solo tiene acceso al valor hash de las contraseñas con lo cual no puede hacer mucho, además esta función se implementa en un solo sentido, es decir, no podemos calcular la \"pre imagen\" de un valor hash haciendo muy díficil que alguien obtenga la información contenida en este valor hash. Las principal fortaleza de una función hash como antes mencionamos, es que es una función en un solo sentido, por lo cual de la única manera que se puede decifrar la información que almacena es a fuerza bruta, calculando la imagen de millones de combinaciones posibles y ver si coincide alguna con el valor hash al que se tiene acceso, lo que resulta en horas de ejecución de código o hasta día, por otro lado una debilidad que tienen las funciones hash, es que la imagen es única por lo que si alguien logra decifrar un valor hash, habrá decifrado todo el resto y no será necesario hacer ninguna operación más."
   ]
  },
  {
   "cell_type": "markdown",
   "metadata": {},
   "source": [
    "e) Plantee una contraseña segura y una insegura indicando que las diferencia. ¿De que forma puede aumentar la seguridad de sus cuentas (banco, usuario, correo) "
   ]
  },
  {
   "cell_type": "markdown",
   "metadata": {},
   "source": [
    "### Respuesta:\n",
    " \n",
    "Una contraseña segura sería por ejemplo an36d0i, ya que los cáracteres que la conforman se encuentran separados en el teclado, no es una contraseña que bastante gente ocuparía y todo esto la hace segura, ya que en caso de que alguien intente decifrar el valor hash tendría que realizar millones de iteraciones porque no tiene ningun patrón común y debería probrar la combinación de todos los cáracteres que tiene el teclado.\n",
    "\n",
    "Por otro lado una contraseña insegura sería por ejemplo javiervalladares123, ya que podrían existir algoritmos \"economicos\" que pueden decifrar la encriptación haciendo iteraciones sobre nombres y apellidos, sin tener que hacer demasiados esfuerzo.\n",
    "\n",
    "La mejor forma de aumentar la seguridad de una contraseña es que ésta sea completamente aleatoria, es decir que no tenga ningun patrón que se pueda decifrar fácil, ocupando cáracteres que esten separados en el teclado, para que así si alguien busca decifrar el valor hash de esta contraseña tenga que hacer una cantidad de itraciones que conlleven demasiado tiempo."
   ]
  },
  {
   "cell_type": "markdown",
   "metadata": {},
   "source": [
    "**Bonus** Encuentre la clave original de : 94b56e8780ef2ccb1501d3f40e9f36bed0049081 <br>\n",
    "Si es una clave de 3 letras y 3 números.\n",
    "\n",
    "**P.D:** Cualquier duda que tengan sobre el labortario o complicación en la programación, no duden en preguntarme."
   ]
  },
  {
   "cell_type": "markdown",
   "metadata": {},
   "source": [
    "Ejecutanto la función que se encuentra abajo pero con el Sting = 'ABCDEFGHIJKLMNOPQRSTUVXYZabcdefghijklmnopqrstuvxyz0123456789' logré llegar a que la contraseña es mat215 después de más de 630059196 iteraciones y alrededor de 6 horas de ejecución del código en google collab, es por eso que prefiero no ejecutarlo en este jupyter y dejar solo la versión simplificada sabiendo que no tiene mayúsculas. De todas maneras se podría acortar el tiempo construyendo de manera más eficiente las combinaciones, pero no logré encontrar una librería apropiada que me lo permitiera."
   ]
  },
  {
   "cell_type": "code",
   "execution_count": 20,
   "metadata": {},
   "outputs": [
    {
     "name": "stdout",
     "output_type": "stream",
     "text": [
      "La contraseña es mat215\n",
      "En un total de 47705196 iteraciones\n"
     ]
    },
    {
     "ename": "SystemExit",
     "evalue": "Contraseña encontrada",
     "output_type": "error",
     "traceback": [
      "An exception has occurred, use %tb to see the full traceback.\n",
      "\u001b[0;31mSystemExit\u001b[0m\u001b[0;31m:\u001b[0m Contraseña encontrada\n"
     ]
    }
   ],
   "source": [
    "# Ejecución del código simplificada sin las letras máyusculas, sabiendo la forma de la contraseña\n",
    "\n",
    "String = 'abcdefghijklmnopqrstuvxyz0123456789' #Definimos un string con todos los caracteres posibles\n",
    "\n",
    "permutaciones = it.permutations(String,6) #Calculamos todas las combinaciones posibles\n",
    "\n",
    "hash_a = '94b56e8780ef2ccb1501d3f40e9f36bed0049081' #Valor hash a decifrar\n",
    "\n",
    "#Iteramos sobre todas las posibles combinaciones\n",
    "\n",
    "cont = 0 #Inicializamos el contador en 0\n",
    " \n",
    "for password in permutaciones: #Iteramos sobre todas las combinaciones posibles\n",
    "    \n",
    "    text = ''.join(password) #Definimos el string con la combiación\n",
    "    \n",
    "    if len(''.join(re.findall('\\d+', text ))) == 3: #Revisamos si tiene 3 números la contraseña\n",
    "        \n",
    "        cont += 1 #Aumentamos el contador en 1 para ver todas las iteraciones realizadas\n",
    "        \n",
    "        hash_b = hashlib.sha1(bytes(text, 'utf-8')).hexdigest() #Calculamos su valor hash\n",
    "        \n",
    "        if hash_b == hash_a: #Verificamos si coinciden los valores hash\n",
    "            \n",
    "            #Se imprime por pantalla la información decifrada\n",
    "            print('La contraseña es', text) \n",
    "            \n",
    "            print('En un total de',cont,'iteraciones')\n",
    "            \n",
    "            sys.exit(\"Contraseña encontrada\") #Salimos del programa porque encontramos la contraseña\n",
    "            \n",
    "print('Contraseña no encontrada') #En caso de no encontrarla se imprime por pantalla\n"
   ]
  },
  {
   "cell_type": "markdown",
   "metadata": {},
   "source": [
    "Vemos que sabiendo que no tiene mayúsculas se simplicfican notablemente las iteraciones"
   ]
  },
  {
   "cell_type": "code",
   "execution_count": 2,
   "metadata": {},
   "outputs": [
    {
     "name": "stdout",
     "output_type": "stream",
     "text": [
      "Sabiendo que la contraseña no tiene mayúscula nos ahorramos 582354000 iteraciones, las cuales representan bastantes horas de ejecución\n"
     ]
    }
   ],
   "source": [
    "print('Sabiendo que la contraseña no tiene mayúscula nos ahorramos',630059196-47705196, 'iteraciones, las cuales representan bastantes horas de ejecución')"
   ]
  },
  {
   "cell_type": "markdown",
   "metadata": {},
   "source": [
    "\n"
   ]
  },
  {
   "cell_type": "markdown",
   "metadata": {},
   "source": [
    "<a id='ap'></a>\n",
    "# 3.- Apéndice \n",
    "\n",
    "<a id='fh'>Funcion hash: Una función criptográfica hash- usualmente conocida como “hash”- es un algoritmo matemático que transforma cualquier bloque arbitrario de datos en una nueva serie de caracteres con una longitud fija. Independientemente de la longitud de los datos de entrada, el valor hash de salida tendrá siempre la misma longitud.</a>\n"
   ]
  }
 ],
 "metadata": {
  "kernelspec": {
   "display_name": "Python 3",
   "language": "python",
   "name": "python3"
  },
  "language_info": {
   "codemirror_mode": {
    "name": "ipython",
    "version": 3
   },
   "file_extension": ".py",
   "mimetype": "text/x-python",
   "name": "python",
   "nbconvert_exporter": "python",
   "pygments_lexer": "ipython3",
   "version": "3.7.10"
  }
 },
 "nbformat": 4,
 "nbformat_minor": 2
}
